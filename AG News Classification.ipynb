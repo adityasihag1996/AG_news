{
 "cells": [
  {
   "cell_type": "markdown",
   "id": "477b85b9-72f2-4307-9229-4985ee9bc8b8",
   "metadata": {},
   "source": [
    "from tqdm import tqdm\n",
    "import pandas as pd\n",
    "import matplotlib.pyplot as plt\n",
    "import seaborn as sns\n",
    "from transformers import BertTokenizer, BertModel\n",
    "import torch\n",
    "import torch.nn as nn\n",
    "from torch.optim import lr_scheduler\n",
    "from sklearn.model_selection import train_test_split\n",
    "from sklearn.metrics import accuracy_score, precision_recall_fscore_support\n",
    "import numpy as np\n",
    "from torch.utils.data import DataLoader, Dataset\n",
    "from torch.nn.utils.rnn import pad_sequence\n",
    "from functools import partial"
   ]
  },
  {
   "cell_type": "code",
   "execution_count": 2,
   "id": "218f299f-d10c-423d-8d64-f75d2638c66f",
   "metadata": {},
   "outputs": [],
   "source": [
    "SEED = 420"
   ]
  },
  {
   "cell_type": "markdown",
   "id": "47130144-5267-4652-bd51-bde30bb4c78b",
   "metadata": {},
   "source": [
    "## Loading the data in pandas dataframe"
   ]
  },
  {
   "cell_type": "code",
   "execution_count": 3,
   "id": "6cf3afcc-2c4a-4d8f-a580-8d9c81403654",
   "metadata": {},
   "outputs": [
    {
     "name": "stdout",
     "output_type": "stream",
     "text": [
      "Train Size -  120000\n",
      "Test Size -  7600\n"
     ]
    }
   ],
   "source": [
    "# Load the datasets\n",
    "train_df = pd.read_csv(\"data/train.csv\")\n",
    "test_df = pd.read_csv(\"data/test.csv\")\n",
    "\n",
    "print(\"Train Size - \", len(train_df))\n",
    "print(\"Test Size - \", len(test_df))"
   ]
  },
  {
   "cell_type": "code",
   "execution_count": 4,
   "id": "e028a066-4531-4cfc-8de1-2a43c54c276c",
   "metadata": {},
   "outputs": [
    {
     "data": {
      "text/html": [
       "<div>\n",
       "<style scoped>\n",
       "    .dataframe tbody tr th:only-of-type {\n",
       "        vertical-align: middle;\n",
       "    }\n",
       "\n",
       "    .dataframe tbody tr th {\n",
       "        vertical-align: top;\n",
       "    }\n",
       "\n",
       "    .dataframe thead th {\n",
       "        text-align: right;\n",
       "    }\n",
       "</style>\n",
       "<table border=\"1\" class=\"dataframe\">\n",
       "  <thead>\n",
       "    <tr style=\"text-align: right;\">\n",
       "      <th></th>\n",
       "      <th>Class Index</th>\n",
       "      <th>Title</th>\n",
       "      <th>Description</th>\n",
       "    </tr>\n",
       "  </thead>\n",
       "  <tbody>\n",
       "    <tr>\n",
       "      <th>0</th>\n",
       "      <td>3</td>\n",
       "      <td>Wall St. Bears Claw Back Into the Black (Reuters)</td>\n",
       "      <td>Reuters - Short-sellers, Wall Street's dwindli...</td>\n",
       "    </tr>\n",
       "    <tr>\n",
       "      <th>1</th>\n",
       "      <td>3</td>\n",
       "      <td>Carlyle Looks Toward Commercial Aerospace (Reu...</td>\n",
       "      <td>Reuters - Private investment firm Carlyle Grou...</td>\n",
       "    </tr>\n",
       "    <tr>\n",
       "      <th>2</th>\n",
       "      <td>3</td>\n",
       "      <td>Oil and Economy Cloud Stocks' Outlook (Reuters)</td>\n",
       "      <td>Reuters - Soaring crude prices plus worries\\ab...</td>\n",
       "    </tr>\n",
       "    <tr>\n",
       "      <th>3</th>\n",
       "      <td>3</td>\n",
       "      <td>Iraq Halts Oil Exports from Main Southern Pipe...</td>\n",
       "      <td>Reuters - Authorities have halted oil export\\f...</td>\n",
       "    </tr>\n",
       "    <tr>\n",
       "      <th>4</th>\n",
       "      <td>3</td>\n",
       "      <td>Oil prices soar to all-time record, posing new...</td>\n",
       "      <td>AFP - Tearaway world oil prices, toppling reco...</td>\n",
       "    </tr>\n",
       "  </tbody>\n",
       "</table>\n",
       "</div>"
      ],
      "text/plain": [
       "   Class Index                                              Title  \\\n",
       "0            3  Wall St. Bears Claw Back Into the Black (Reuters)   \n",
       "1            3  Carlyle Looks Toward Commercial Aerospace (Reu...   \n",
       "2            3    Oil and Economy Cloud Stocks' Outlook (Reuters)   \n",
       "3            3  Iraq Halts Oil Exports from Main Southern Pipe...   \n",
       "4            3  Oil prices soar to all-time record, posing new...   \n",
       "\n",
       "                                         Description  \n",
       "0  Reuters - Short-sellers, Wall Street's dwindli...  \n",
       "1  Reuters - Private investment firm Carlyle Grou...  \n",
       "2  Reuters - Soaring crude prices plus worries\\ab...  \n",
       "3  Reuters - Authorities have halted oil export\\f...  \n",
       "4  AFP - Tearaway world oil prices, toppling reco...  "
      ]
     },
     "execution_count": 4,
     "metadata": {},
     "output_type": "execute_result"
    }
   ],
   "source": [
    "# Display the first few rows\n",
    "train_df.head()"
   ]
  },
  {
   "cell_type": "markdown",
   "id": "cd096f5e-7868-4d7a-95d9-f60a38c778bf",
   "metadata": {},
   "source": [
    "## Preprocessing steps"
   ]
  },
  {
   "cell_type": "code",
   "execution_count": 5,
   "id": "119620fb-0d41-4c77-a92f-f7551217b689",
   "metadata": {},
   "outputs": [
    {
     "name": "stdout",
     "output_type": "stream",
     "text": [
      "Class Index\n",
      "3    30000\n",
      "4    30000\n",
      "2    30000\n",
      "1    30000\n",
      "Name: count, dtype: int64\n"
     ]
    }
   ],
   "source": [
    "# analyze the class distribution\n",
    "print(train_df['Class Index'].value_counts())"
   ]
  },
  {
   "cell_type": "code",
   "execution_count": 6,
   "id": "259f147b-16c1-4e59-9fec-2b9591041ba1",
   "metadata": {},
   "outputs": [
    {
     "name": "stdout",
     "output_type": "stream",
     "text": [
      "Class Index    0\n",
      "Title          0\n",
      "Description    0\n",
      "dtype: int64\n"
     ]
    }
   ],
   "source": [
    "# check for missing values\n",
    "print(train_df.isnull().sum())"
   ]
  },
  {
   "cell_type": "code",
   "execution_count": 7,
   "id": "44afbc7d-b7aa-4dd5-894a-3392173989a6",
   "metadata": {},
   "outputs": [],
   "source": [
    "# Precossing function\n",
    "# we are removing sentences with len < max_len_raw and len > min_len_raw\n",
    "# lowering the case of each sentence\n",
    "\n",
    "def get_proc_df(data_path, max_len_raw = 64, min_len_raw = 32):\n",
    "    df = pd.read_csv(data_path)\n",
    "    df['Description'] = df.Description.str.replace('/', '').str.replace ('  ', ' ')\n",
    "\n",
    "    seperator_char = \" \"\n",
    "    \n",
    "    del_index = []\n",
    "    for i, row in enumerate (df.iterrows ()) : \n",
    "        df.loc[i, 'Description'] = df.loc[i, 'Title'].lower() + seperator_char + df.loc[i, 'Description'].lower()\n",
    "        df.loc[i, 'length'] = len(df.loc[i, 'Description'].split())\n",
    "\n",
    "        # ignoring samples with \"length\" > max_len_raw and < min_len_raw\n",
    "        if df.loc[i, 'length'] > max_len_raw or df.loc[i, 'length'] < min_len_raw:\n",
    "            del_index.append(i)\n",
    "            \n",
    "    df.drop(index = del_index, inplace = True)\n",
    "    \n",
    "    return df"
   ]
  },
  {
   "cell_type": "code",
   "execution_count": 8,
   "id": "a47591b0-393b-4acf-976d-6621fe018cf0",
   "metadata": {},
   "outputs": [
    {
     "name": "stdout",
     "output_type": "stream",
     "text": [
      "Train Size -  119405\n",
      "Test Size -  7565\n"
     ]
    }
   ],
   "source": [
    "train_proc_df = get_proc_df(\"data/train.csv\", max_len_raw = 80, min_len_raw = 5)\n",
    "test_proc_df = get_proc_df(\"data/test.csv\", max_len_raw = 80, min_len_raw = 5)\n",
    "\n",
    "print(\"Train Size - \", len(train_proc_df))\n",
    "print(\"Test Size - \", len(test_proc_df))"
   ]
  },
  {
   "cell_type": "code",
   "execution_count": 9,
   "id": "8e09507b-3aa0-4c35-a95c-3411f77b0bcf",
   "metadata": {},
   "outputs": [
    {
     "name": "stdout",
     "output_type": "stream",
     "text": [
      "Class Index    0\n",
      "Title          0\n",
      "Description    0\n",
      "length         0\n",
      "dtype: int64\n"
     ]
    }
   ],
   "source": [
    "# check for missing values\n",
    "print(train_proc_df.isnull().sum())"
   ]
  },
  {
   "cell_type": "code",
   "execution_count": 10,
   "id": "0a60ac49-3143-4329-9ea8-c581dfbabbb4",
   "metadata": {},
   "outputs": [
    {
     "data": {
      "image/png": "[encoded data removed]",
      "text/plain": [
       "<Figure size 800x500 with 1 Axes>"
      ]
     },
     "metadata": {},
     "output_type": "display_data"
    }
   ],
   "source": [
    "# analyse lengths of train_proc_df\n",
    "plt.figure(figsize = (8, 5))\n",
    "plt.hist(train_proc_df['length'], bins = 30, alpha = 0.7, color = 'blue')\n",
    "plt.title('Histogram of Lengths')\n",
    "plt.xlabel('Length')\n",
    "plt.ylabel('Frequency')\n",
    "plt.grid(True)\n",
    "plt.show()"
   ]
  },
  {
   "cell_type": "code",
   "execution_count": null,
   "id": "c6e693b6-7a6e-4bb0-bb1b-c9f8950b889f",
   "metadata": {},
   "outputs": [],
   "source": []
  },
  {
   "cell_type": "markdown",
   "id": "93710553-db79-46a4-9b93-cbd02a4da48d",
   "metadata": {},
   "source": [
    "## Train / valid split (data prep)"
   ]
  },
  {
   "cell_type": "code",
   "execution_count": 11,
   "id": "609ed6fc-7f5b-4092-aafd-eb5910f87c72",
   "metadata": {},
   "outputs": [],
   "source": [
    "# Splitting the training data into training and validation sets\n",
    "train_texts, val_texts, train_labels, val_labels = train_test_split(\n",
    "    train_proc_df['Description'], \n",
    "    train_proc_df['Class Index'], \n",
    "    test_size = 0.1, # Adjust this to change the validation set size\n",
    "    stratify = train_proc_df['Class Index'],\n",
    "    random_state = SEED,\n",
    ")"
   ]
  },
  {
   "cell_type": "code",
   "execution_count": null,
   "id": "60ebc333-5400-44ba-8736-ebe5862553d2",
   "metadata": {},
   "outputs": [],
   "source": []
  },
  {
   "cell_type": "markdown",
   "id": "ec14258d-1c88-4992-ae34-b5c418cb7452",
   "metadata": {},
   "source": [
    "## Dataset definition"
   ]
  },
  {
   "cell_type": "code",
   "execution_count": 13,
   "id": "0406eb7a-2c5e-4f94-84e6-e157a73aef0d",
   "metadata": {},
   "outputs": [],
   "source": [
    "class NewsDataset(Dataset):\n",
    "    def __init__(self, texts, labels, tokenizer, max_len):\n",
    "        self.labels = labels\n",
    "        self.tokenizer = tokenizer\n",
    "        self.max_len = max_len\n",
    "    \n",
    "        self.encodings = []\n",
    "        for text in tqdm(texts, desc = \"Tokenising data\"):\n",
    "            self.encodings.append(tokenizer.encode(\n",
    "                                                text,\n",
    "                                                truncation = True,\n",
    "                                                padding = False,\n",
    "                                                max_length = self.max_len,\n",
    "                                    ))\n",
    "    \n",
    "\n",
    "    def __len__(self):\n",
    "        return len(self.labels)\n",
    "    \n",
    "    def __getitem__(self, item):\n",
    "        input_ids = torch.tensor(self.encodings[item])\n",
    "        return {\n",
    "            'input_ids': input_ids,\n",
    "            'attention_mask': torch.ones_like(input_ids),\n",
    "            'labels': torch.tensor(self.labels[item], dtype = torch.long)\n",
    "        }\n",
    "\n",
    "# padding collator\n",
    "def dynamic_padding_collator(batch, pad_token_id):\n",
    "    input_ids = [item['input_ids'] for item in batch]\n",
    "    attention_masks = [item['attention_mask'] for item in batch]\n",
    "    labels = [item['labels'] for item in batch]\n",
    "    \n",
    "    input_ids_padded = pad_sequence(input_ids, batch_first = True, padding_value = pad_token_id)\n",
    "    attention_masks_padded = pad_sequence(attention_masks, batch_first = True, padding_value = 0)\n",
    "    \n",
    "    labels = torch.stack(labels)\n",
    "    \n",
    "    return {\n",
    "        'input_ids': input_ids_padded,\n",
    "        'attention_mask': attention_masks_padded,\n",
    "        'labels': labels\n",
    "    }"
   ]
  },
  {
   "cell_type": "code",
   "execution_count": 14,
   "id": "861ddd99-6d05-4a19-bed7-08653147c8be",
   "metadata": {},
   "outputs": [],
   "source": [
    "# Initialize tokenizer\n",
    "tokenizer = BertTokenizer.from_pretrained(MODEL_NAME)"
   ]
  },
  {
   "cell_type": "markdown",
   "id": "66188e2f-6e85-4ef4-ad72-1983951455a3",
   "metadata": {},
   "source": [
    "## Create dataloaders"
   ]
  },
  {
   "cell_type": "code",
   "execution_count": 15,
   "id": "f40fdd50-c4aa-4669-8c7f-6e4e159a3d0b",
   "metadata": {},
   "outputs": [
    {
     "name": "stderr",
     "output_type": "stream",
     "text": [
      "Tokenising data: 100%|████████████████████████████████████████████████████████████████████████| 107464/107464 [00:29<00:00, 3700.08it/s]\n",
      "Tokenising data: 100%|██████████████████████████████████████████████████████████████████████████| 11941/11941 [00:03<00:00, 3711.00it/s]\n",
      "Tokenising data: 100%|████████████████████████████████████████████████████████████████████████████| 7565/7565 [00:02<00:00, 3732.81it/s]\n"
     ]
    }
   ],
   "source": [
    "# Define max sequence length\n",
    "MAX_LEN = 512\n",
    "\n",
    "# Create datasets\n",
    "train_dataset = NewsDataset(\n",
    "    texts = train_texts.to_list(),\n",
    "    labels = train_labels.to_numpy(),\n",
    "    tokenizer = tokenizer,\n",
    "    max_len = MAX_LEN\n",
    ")\n",
    "\n",
    "val_dataset = NewsDataset(\n",
    "    texts = val_texts.to_list(),\n",
    "    labels = val_labels.to_numpy(),\n",
    "    tokenizer = tokenizer,\n",
    "    max_len = MAX_LEN,\n",
    ")\n",
    "\n",
    "test_dataset = NewsDataset(\n",
    "    texts = test_proc_df['Description'].to_list(),\n",
    "    labels = test_proc_df['Class Index'].to_numpy(),\n",
    "    tokenizer = tokenizer,\n",
    "    max_len = MAX_LEN,\n",
    ")\n",
    "\n",
    "batch_size = 32\n",
    "\n",
    "# Create data loaders\n",
    "train_loader = DataLoader(train_dataset, batch_size = batch_size, shuffle = True, collate_fn = partial(dynamic_padding_collator, pad_token_id = tokenizer.pad_token_id), num_workers = 2)\n",
    "val_loader = DataLoader(val_dataset, batch_size = batch_size, collate_fn = partial(dynamic_padding_collator, pad_token_id = tokenizer.pad_token_id), num_workers = 2)\n",
    "test_loader = DataLoader(test_dataset, batch_size = batch_size, collate_fn = partial(dynamic_padding_collator, pad_token_id = tokenizer.pad_token_id), num_workers = 2)"
   ]
  },
  {
   "cell_type": "markdown",
   "id": "096c95b1-b0cc-4fbe-8f60-da8d9f668e22",
   "metadata": {},
   "source": [
    "## Model definition"
   ]
  },
  {
   "cell_type": "code",
   "execution_count": 12,
   "id": "ac2eff08-74fe-4d60-91cd-bc389b293b4f",
   "metadata": {},
   "outputs": [],
   "source": [
    "MODEL_NAME = 'bert-base-uncased'"
   ]
  },
  {
   "cell_type": "code",
   "execution_count": 16,
   "id": "2979a515-eacd-46aa-a4ba-35e4ef769422",
   "metadata": {},
   "outputs": [],
   "source": [
    "class BERT_CLS(nn.Module):\n",
    "    def __init__ (self, dropout = 0.1, num_classes = 4, freeze_transformer = False):\n",
    "        super(BERT_CLS, self).__init__ ()\n",
    "        self.bert = BertModel.from_pretrained(\"bert-base-uncased\")\n",
    "\n",
    "        # freeze BERT parameters\n",
    "        if freeze_transformer:\n",
    "            for param in self.bert.parameters():\n",
    "                param.requires_grad = False\n",
    "            \n",
    "        self.dropout = nn.Dropout(p = dropout)\n",
    "        self.linear = nn.Linear(768, num_classes)\n",
    "    \n",
    "    def forward(self, input_ids, attention_mask):\n",
    "        # using the model's pooler output\n",
    "        _, output = self.bert(input_ids = input_ids, attention_mask = attention_mask, return_dict = False)\n",
    "        output = self.dropout(output)\n",
    "        output = self.linear(output)\n",
    "        return output"
   ]
  },
  {
   "cell_type": "code",
   "execution_count": 17,
   "id": "743a5def-3e90-416d-88a2-49244a41c318",
   "metadata": {},
   "outputs": [],
   "source": [
    "model = BERT_CLS()"
   ]
  },
  {
   "cell_type": "markdown",
   "id": "8873c039-9ff4-4a14-8bd8-691b627c61be",
   "metadata": {},
   "source": [
    "## Evaluation"
   ]
  },
  {
   "cell_type": "code",
   "execution_count": 18,
   "id": "c225e93f-833e-4589-9b02-2c11a22aea56",
   "metadata": {},
   "outputs": [],
   "source": [
    "def evaluate_model(model, data_loader, device):\n",
    "    model.eval()\n",
    "\n",
    "    true_labels = []\n",
    "    predictions = []\n",
    "\n",
    "    with torch.no_grad():\n",
    "        for batch in data_loader:\n",
    "            input_ids = batch[\"input_ids\"].to(device)\n",
    "            attention_mask = batch[\"attention_mask\"].to(device)\n",
    "            labels = batch[\"labels\"].to(device) - 1\n",
    "\n",
    "            outputs = model(input_ids, attention_mask)\n",
    "\n",
    "            _, preds = torch.max(outputs, dim = 1)\n",
    "\n",
    "            true_labels.extend(labels.cpu().numpy())\n",
    "            predictions.extend(preds.cpu().numpy())\n",
    "\n",
    "            del batch, input_ids, attention_mask, labels, outputs, preds\n",
    "            torch.cuda.empty_cache()\n",
    "\n",
    "    # calculate metrics (Precision, Recall, F1 score, Accuracy)\n",
    "    accuracy = accuracy_score(true_labels, predictions)\n",
    "    precision, recall, f1, _ = precision_recall_fscore_support(true_labels, predictions, average = 'weighted')\n",
    "\n",
    "    return {\n",
    "        'accuracy': accuracy,\n",
    "        'precision': precision,\n",
    "        'recall': recall,\n",
    "        'f1': f1\n",
    "    }"
   ]
  },
  {
   "cell_type": "markdown",
   "id": "8be7373d-cd77-4786-8380-0814c075e76b",
   "metadata": {},
   "source": [
    "## Training Loop"
   ]
  },
  {
   "cell_type": "code",
   "execution_count": 19,
   "id": "0c6c8ace-21a0-4c1b-b32b-2673030ba595",
   "metadata": {},
   "outputs": [],
   "source": [
    "epochs = 5"
   ]
  },
  {
   "cell_type": "code",
   "execution_count": 20,
   "id": "9af566ec-fdb2-41c5-8fd6-09573420e987",
   "metadata": {},
   "outputs": [],
   "source": [
    "optimizer = torch.optim.Adam(model.parameters(), lr = 1e-4, weight_decay = 1e-6)\n",
    "scheduler = lr_scheduler.StepLR(optimizer, step_size = 30, gamma = 0.75)\n",
    "criterion = nn.CrossEntropyLoss()"
   ]
  },
  {
   "cell_type": "code",
   "execution_count": 21,
   "id": "a8427f17-d01f-459d-a31b-912c66ec1610",
   "metadata": {},
   "outputs": [
    {
     "name": "stderr",
     "output_type": "stream",
     "text": [
      "Training Epoch 1: 100%|█████████████████████████████████████████████████████████████████████████████| 3359/3359 [07:26<00:00,  7.53it/s]"
     ]
    },
    {
     "name": "stdout",
     "output_type": "stream",
     "text": [
      "Epoch 1, TRAIN Loss: 0.2658241270248642\n"
     ]
    },
    {
     "name": "stderr",
     "output_type": "stream",
     "text": [
      "\n"
     ]
    },
    {
     "name": "stdout",
     "output_type": "stream",
     "text": [
      "VALID Accuracy - 0.9233732518214555\n"
     ]
    },
    {
     "name": "stderr",
     "output_type": "stream",
     "text": [
      "Training Epoch 2: 100%|█████████████████████████████████████████████████████████████████████████████| 3359/3359 [07:26<00:00,  7.52it/s]"
     ]
    },
    {
     "name": "stdout",
     "output_type": "stream",
     "text": [
      "Epoch 2, TRAIN Loss: 0.19195951751468526\n"
     ]
    },
    {
     "name": "stderr",
     "output_type": "stream",
     "text": [
      "\n"
     ]
    },
    {
     "name": "stdout",
     "output_type": "stream",
     "text": [
      "VALID Accuracy - 0.9280629763001423\n"
     ]
    },
    {
     "name": "stderr",
     "output_type": "stream",
     "text": [
      "Training Epoch 3: 100%|█████████████████████████████████████████████████████████████████████████████| 3359/3359 [07:22<00:00,  7.59it/s]"
     ]
    },
    {
     "name": "stdout",
     "output_type": "stream",
     "text": [
      "Epoch 3, TRAIN Loss: 0.1749201730657818\n"
     ]
    },
    {
     "name": "stderr",
     "output_type": "stream",
     "text": [
      "\n"
     ]
    },
    {
     "name": "stdout",
     "output_type": "stream",
     "text": [
      "VALID Accuracy - 0.9190185076626748\n"
     ]
    },
    {
     "name": "stderr",
     "output_type": "stream",
     "text": [
      "Training Epoch 4: 100%|█████████████████████████████████████████████████████████████████████████████| 3359/3359 [07:31<00:00,  7.44it/s]"
     ]
    },
    {
     "name": "stdout",
     "output_type": "stream",
     "text": [
      "Epoch 4, TRAIN Loss: 0.20365991075136416\n"
     ]
    },
    {
     "name": "stderr",
     "output_type": "stream",
     "text": [
      "\n"
     ]
    },
    {
     "name": "stdout",
     "output_type": "stream",
     "text": [
      "VALID Accuracy - 0.8433129553638724\n"
     ]
    },
    {
     "name": "stderr",
     "output_type": "stream",
     "text": [
      "Training Epoch 5: 100%|█████████████████████████████████████████████████████████████████████████████| 3359/3359 [07:23<00:00,  7.58it/s]"
     ]
    },
    {
     "name": "stdout",
     "output_type": "stream",
     "text": [
      "Epoch 5, TRAIN Loss: 0.15393806642060587\n"
     ]
    },
    {
     "name": "stderr",
     "output_type": "stream",
     "text": [
      "\n"
     ]
    },
    {
     "name": "stdout",
     "output_type": "stream",
     "text": [
      "VALID Accuracy - 0.9227870362616196\n"
     ]
    }
   ],
   "source": [
    "device = \"cuda\"\n",
    "\n",
    "model = model.to(device)\n",
    "\n",
    "for epoch in range(epochs):\n",
    "    model.train()\n",
    "    \n",
    "    total_loss = 0\n",
    "    for batch in tqdm(train_loader, desc = f\"Training Epoch {epoch + 1}\"):\n",
    "        input_ids = batch[\"input_ids\"].to(device)\n",
    "        attention_mask = batch[\"attention_mask\"].to(device)\n",
    "        labels = batch[\"labels\"].to(device) - 1\n",
    "        \n",
    "        outputs = model(input_ids, attention_mask)\n",
    "        \n",
    "        loss = criterion(outputs, labels)\n",
    "        \n",
    "        total_loss += loss.item()\n",
    "        \n",
    "        optimizer.zero_grad()\n",
    "        loss.backward()\n",
    "        optimizer.step()\n",
    "\n",
    "        # cache clearance\n",
    "        del batch, input_ids, attention_mask, labels, outputs\n",
    "        torch.cuda.empty_cache()\n",
    "    \n",
    "    print(f\"Epoch {epoch + 1}, TRAIN Loss: {total_loss / len(train_loader)}\")\n",
    "    valid_metrics = evaluate_model(model, val_loader, device)\n",
    "    print(\"VALID Accuracy -\", valid_metrics[\"accuracy\"])"
   ]
  },
  {
   "cell_type": "code",
   "execution_count": 22,
   "id": "5c30a38b-d45b-41d0-9ed3-174f8df995a4",
   "metadata": {},
   "outputs": [
    {
     "name": "stdout",
     "output_type": "stream",
     "text": [
      "{'accuracy': 0.9204230006609385, 'precision': 0.9215130761026911, 'recall': 0.9204230006609385, 'f1': 0.920460404583035}\n"
     ]
    }
   ],
   "source": [
    "# evalaute on test set\n",
    "test_metrics = evaluate_model(model, test_loader, device)\n",
    "print(test_metrics)"
   ]
  },
  {
   "cell_type": "code",
   "execution_count": null,
   "id": "16d3edaa-3fdf-407d-8b65-5376fb0d5c4d",
   "metadata": {},
   "outputs": [],
   "source": []
  },
  {
   "cell_type": "code",
   "execution_count": null,
   "id": "4541c017-c7a8-455b-a4a4-a8234defd07b",
   "metadata": {},
   "outputs": [],
   "source": []
  },
  {
   "cell_type": "code",
   "execution_count": null,
   "id": "856e0ee9-0d03-4d33-a09f-73c480f9f2b8",
   "metadata": {},
   "outputs": [],
   "source": []
  },
  {
   "cell_type": "code",
   "execution_count": null,
   "id": "8b6c3478-74af-44e2-97e4-085435c71475",
   "metadata": {},
   "outputs": [],
   "source": []
  },
  {
   "cell_type": "code",
   "execution_count": null,
   "id": "9433efc8-d7dc-4624-94f5-9d6fb08673fb",
   "metadata": {},
   "outputs": [],
   "source": []
  },
  {
   "cell_type": "code",
   "execution_count": null,
   "id": "61367a42-6257-4568-9a44-17e88ff5e1f7",
   "metadata": {},
   "outputs": [],
   "source": []
  },
  {
   "cell_type": "code",
   "execution_count": null,
   "id": "86df638f-b040-4b42-86ac-4ebdb385a2c1",
   "metadata": {},
   "outputs": [],
   "source": []
  }
 ],
 "metadata": {
  "kernelspec": {
   "display_name": "Python 3 (ipykernel)",
   "language": "python",
   "name": "python3"
  },
  "language_info": {
   "codemirror_mode": {
    "name": "ipython",
    "version": 3
   },
   "file_extension": ".py",
   "mimetype": "text/x-python",
   "name": "python",
   "nbconvert_exporter": "python",
   "pygments_lexer": "ipython3",
   "version": "3.10.13"
  }
 },
 "nbformat": 4,
 "nbformat_minor": 5
}
